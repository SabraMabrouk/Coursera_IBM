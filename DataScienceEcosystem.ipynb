{
 "cells": [
  {
   "cell_type": "markdown",
   "id": "181e65af",
   "metadata": {},
   "source": [
    "# Data Science Tools and Ecosystem"
   ]
  },
  {
   "cell_type": "markdown",
   "id": "8d5413a2",
   "metadata": {},
   "source": [
    "In this notebook, Data Science Tools and Ecosystem are summarized."
   ]
  },
  {
   "cell_type": "markdown",
   "id": "11c7e2ce",
   "metadata": {},
   "source": [
    "__Objectives:__\n",
    "\n",
    "- List popular languages for Data Science\n",
    "- List the most commonly used libraries in Data science\n",
    "- List examples of development environment open source tools used in data science\n",
    "- Evaluate some arithmetic expressions in Python"
   ]
  },
  {
   "cell_type": "markdown",
   "id": "49f57012",
   "metadata": {},
   "source": [
    "Some of the popular languages that Data Scientists use are:\n",
    "1. Python\n",
    "2. R\n",
    "3. Java\n",
    "4. C++\n",
    "5. Scala\n",
    "6. Julia\n"
   ]
  },
  {
   "cell_type": "markdown",
   "id": "c168baa0",
   "metadata": {},
   "source": [
    "Some of the commonly used libraries used by Data Scientists include:\n",
    "\n",
    "1. Pandas (Python) : offers data structures and tools for data cleaning, manipulation, and analysis.\n",
    "2. NumPy (Python) : used for working with arrays and matrices, allows to apply mathematical functions to the arrays\n",
    "3. Matplotlib (Python) : for data visualization\n",
    "4. Seaborn (Python) : for statistical data visualization\n",
    "5. Keras (Python) : for deep learning\n",
    "6. Scikit-learn (Python) : contains tools for statistical modeling, including regression, classification\n",
    "7. Pytorch (Python) : for expérimentation\n",
    "8. Spark (Python)\n",
    "9. dplyr (R) : for data manipulation\n",
    "10. ggplot (R) : for data visualization\n",
    "11. caret (R) : for machine learning\n",
    "12. Vegas (Scala) : for data visualization"
   ]
  },
  {
   "cell_type": "markdown",
   "id": "8b85df66",
   "metadata": {},
   "source": [
    "Examples of development environment open source tools used in data science are listed in the table below : \n",
    "\n",
    "|Data Science Tools|\n",
    "|------------------|\n",
    "|Jupyter Notebook / Jupyter lab|\n",
    "|R studio|\n",
    "|Apache |"
   ]
  },
  {
   "cell_type": "markdown",
   "id": "4e0df137",
   "metadata": {},
   "source": [
    "### Below are a few examples of evaluating arithmetic expressions in Python"
   ]
  },
  {
   "cell_type": "code",
   "execution_count": 1,
   "id": "0b8ba252",
   "metadata": {},
   "outputs": [
    {
     "data": {
      "text/plain": [
       "17"
      ]
     },
     "execution_count": 1,
     "metadata": {},
     "output_type": "execute_result"
    }
   ],
   "source": [
    "# This a simple arithmetic expression to mutiply then add integers\n",
    "(3*4)+5"
   ]
  },
  {
   "cell_type": "code",
   "execution_count": 2,
   "id": "640979d0",
   "metadata": {},
   "outputs": [
    {
     "data": {
      "text/plain": [
       "3.3333333333333335"
      ]
     },
     "execution_count": 2,
     "metadata": {},
     "output_type": "execute_result"
    }
   ],
   "source": [
    "# This will convert 200 minutes to hours by diving by 60\n",
    "200/60"
   ]
  },
  {
   "cell_type": "markdown",
   "id": "87a47615",
   "metadata": {},
   "source": [
    "## Author\n",
    "Sabra Mabrouk"
   ]
  }
 ],
 "metadata": {
  "kernelspec": {
   "display_name": "Python 3 (ipykernel)",
   "language": "python",
   "name": "python3"
  },
  "language_info": {
   "codemirror_mode": {
    "name": "ipython",
    "version": 3
   },
   "file_extension": ".py",
   "mimetype": "text/x-python",
   "name": "python",
   "nbconvert_exporter": "python",
   "pygments_lexer": "ipython3",
   "version": "3.11.5"
  }
 },
 "nbformat": 4,
 "nbformat_minor": 5
}
